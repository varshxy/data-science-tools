{
 "cells": [
  {
   "cell_type": "code",
   "execution_count": 1,
   "id": "5b28dc7c-fcbd-417d-9f60-019360f82bf6",
   "metadata": {},
   "outputs": [
    {
     "ename": "SyntaxError",
     "evalue": "invalid syntax (3193229285.py, line 1)",
     "output_type": "error",
     "traceback": [
      "\u001b[0;36m  Cell \u001b[0;32mIn[1], line 1\u001b[0;36m\u001b[0m\n\u001b[0;31m    Data Science tools and ecosystem\u001b[0m\n\u001b[0m         ^\u001b[0m\n\u001b[0;31mSyntaxError\u001b[0m\u001b[0;31m:\u001b[0m invalid syntax\n"
     ]
    }
   ],
   "source": [
    "Data Science tools and ecosystem"
   ]
  },
  {
   "cell_type": "code",
   "execution_count": null,
   "id": "1476cae5-b127-4d35-a04b-c80dcc3d40c2",
   "metadata": {},
   "outputs": [],
   "source": [
    "In this notebook, we will explore various tools and languages used by data scientists. This includes programming languages, libraries,\n",
    "tools, and simple arithmetic operations.\n"
   ]
  },
  {
   "cell_type": "code",
   "execution_count": null,
   "id": "df2c1571-bb58-4424-972e-9ca72f762893",
   "metadata": {},
   "outputs": [],
   "source": [
    " Some of the popular languages that Data Scientists use are:\n",
    "1. Python  \n",
    "2. R  \n",
    "3. SQL  \n",
    "4. Java  \n",
    "5. Julia\n"
   ]
  },
  {
   "cell_type": "code",
   "execution_count": null,
   "id": "8d65364c-40aa-46f9-b610-1ddecc9bd081",
   "metadata": {},
   "outputs": [],
   "source": [
    "###Some of the commonly used libraries used by Data Scientists include:\n",
    "1. Pandas  \n",
    "2. NumPy  \n",
    "3. Matplotlib  \n",
    "4. Scikit-learn  \n",
    "5. TensorFlow  \n",
    "6. Keras\n"
   ]
  },
  {
   "cell_type": "code",
   "execution_count": null,
   "id": "44575186-e5b9-4e51-834f-d8ffebbedb42",
   "metadata": {},
   "outputs": [],
   "source": [
    " Data Science Tools:\n",
    "1.Jupyter Notebook       \n",
    "2.RStudio                \n",
    "3.Apache Zeppelin        \n"
   ]
  },
  {
   "cell_type": "code",
   "execution_count": null,
   "id": "e505f107-c3c2-45a7-bc2e-00fb889d375b",
   "metadata": {},
   "outputs": [],
   "source": [
    "### Below is an  example of evaluating arithmetic expressions in Python:\n",
    "- 3 + 5  \n"
   ]
  },
  {
   "cell_type": "code",
   "execution_count": 2,
   "id": "7cb55212-e19d-4b5a-a816-8a5c558b576e",
   "metadata": {},
   "outputs": [
    {
     "data": {
      "text/plain": [
       "17"
      ]
     },
     "execution_count": 2,
     "metadata": {},
     "output_type": "execute_result"
    }
   ],
   "source": [
    "# This is a simple arithmetic expression to multiply and add integers\n",
    "(3 * 4) + 5\n"
   ]
  },
  {
   "cell_type": "code",
   "execution_count": 3,
   "id": "2a4ed20e-f690-42c4-815f-2e55ccc666ac",
   "metadata": {},
   "outputs": [
    {
     "data": {
      "text/plain": [
       "3.3333333333333335"
      ]
     },
     "execution_count": 3,
     "metadata": {},
     "output_type": "execute_result"
    }
   ],
   "source": [
    "# This will convert 200 minutes to hours\n",
    "200 / 60\n"
   ]
  },
  {
   "cell_type": "code",
   "execution_count": null,
   "id": "beaa31a2-3a26-427f-b230-fa4b3dfc1881",
   "metadata": {},
   "outputs": [],
   "source": [
    "### Objectives:\n",
    "- List popular languages for Data Science  \n",
    "- List commonly used libraries  \n",
    "- Create tables in markdown  \n",
    "- Use arithmetic expressions  \n",
    "- Convert units using Python\n"
   ]
  },
  {
   "cell_type": "code",
   "execution_count": null,
   "id": "79340ce9-8aee-4c40-96a4-d13169bb702d",
   "metadata": {},
   "outputs": [],
   "source": [
    "## Author\n",
    "Sreevarshini Surendran\n"
   ]
  },
  {
   "cell_type": "code",
   "execution_count": null,
   "id": "2985c56f-f521-4dfa-9e03-d60bd599862a",
   "metadata": {},
   "outputs": [],
   "source": []
  }
 ],
 "metadata": {
  "kernelspec": {
   "display_name": "Python 3 (ipykernel)",
   "language": "python",
   "name": "python3"
  },
  "language_info": {
   "codemirror_mode": {
    "name": "ipython",
    "version": 3
   },
   "file_extension": ".py",
   "mimetype": "text/x-python",
   "name": "python",
   "nbconvert_exporter": "python",
   "pygments_lexer": "ipython3",
   "version": "3.12.8"
  }
 },
 "nbformat": 4,
 "nbformat_minor": 5
}
